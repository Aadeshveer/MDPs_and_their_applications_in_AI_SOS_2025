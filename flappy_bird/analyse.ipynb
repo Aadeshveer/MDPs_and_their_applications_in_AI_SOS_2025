{
 "cells": [
  {
   "cell_type": "code",
   "execution_count": null,
   "id": "d71e8a1b",
   "metadata": {},
   "outputs": [],
   "source": [
    "import matplotlib.pyplot as plt\n",
    "import pandas as pd\n",
    "import numpy as np"
   ]
  },
  {
   "cell_type": "code",
   "execution_count": null,
   "id": "4a68e955",
   "metadata": {},
   "outputs": [],
   "source": [
    "df = pd.read_csv('log1.csv')\n",
    "print(df['score'].value_counts())\n",
    "# print(df['episode_length'].value_counts())\n",
    "plot_avg_ep(1000)"
   ]
  },
  {
   "cell_type": "code",
   "execution_count": null,
   "id": "811a6e1f",
   "metadata": {},
   "outputs": [],
   "source": [
    "fig, ax1 = plt.subplots()\n",
    "\n",
    "fig.set_size_inches((15, 5))\n",
    "# fig.set_dpi(300)\n",
    "\n",
    "ax1.set_xlabel('time')\n",
    "ax1.set_ylabel('score')\n",
    "ax1.scatter(np.arange(df.shape[0]), df['score'], label='Scores', s=0.1, color='purple')\n",
    "\n",
    "ax2 = ax1.twinx()\n",
    "ax2.set_ylabel('average')\n",
    "ax2.plot(df['score'].rolling(window=1000, min_periods=1).mean(), label='Last 1000 term average')\n",
    "ax2.plot((df['score'].cumsum()/np.arange(1, df.shape[0]+1)), label='global average', color='orange')\n",
    "ax2.legend()\n",
    "\n",
    "fig.tight_layout()\n",
    "plt.show()\n",
    "plt.close()"
   ]
  },
  {
   "cell_type": "code",
   "execution_count": null,
   "id": "7c555765",
   "metadata": {},
   "outputs": [],
   "source": [
    "fig, ax1 = plt.subplots()\n",
    "fig.set_size_inches((15, 5))\n",
    "fig.set_dpi(300)\n",
    "ax1.scatter(np.arange(df.shape[0]), df['episode_length'], s=1)\n",
    "ax1.set_xlabel('Time')\n",
    "ax1.set_yscale('log')\n",
    "ax1.set_ylabel('Episodelength')\n",
    "ax1.set_title('Episode length at various time intervals with average of last 1000 episodes')\n",
    "ax1.plot(df['episode_length'].rolling(window=100, min_periods=1).mean(), color='red')"
   ]
  },
  {
   "cell_type": "code",
   "execution_count": null,
   "id": "9c554fd6",
   "metadata": {},
   "outputs": [],
   "source": [
    "# plotting the score distribution\n",
    "fig, ax = plt.subplots(2, 2)\n",
    "fig.set_size_inches((8,8))\n",
    "fig.set_dpi(300)\n",
    "\n",
    "(ax1, ax2), (ax3, ax4) = ax\n",
    "\n",
    "ax1.hist(df['score'])\n",
    "ax1.set_xlabel('Score')\n",
    "ax1.set_ylabel('num of times arrived')\n",
    "ax1.set_title('Score distribution')\n",
    "\n",
    "labels = df['score'].value_counts().index\n",
    "freq = df['score'].value_counts().values\n",
    "ax2.pie(freq, labels=labels)\n",
    "ax2.legend()\n",
    "\n",
    "ax3.hist(df['score'][-1000:])\n",
    "ax3.set_xlabel('Score')\n",
    "ax3.set_ylabel('num of times arrived')\n",
    "ax3.set_title('Score distribution in last 1000 episodes')\n",
    "\n",
    "labels = df['score'][-1000:].value_counts().index\n",
    "freq = df['score'][-1000:].value_counts().values\n",
    "ax4.pie(freq, labels=labels)\n",
    "ax4.legend()\n",
    "\n",
    "fig.tight_layout()\n",
    "plt.show()\n",
    "plt.close()"
   ]
  },
  {
   "cell_type": "code",
   "execution_count": null,
   "id": "92a09d14",
   "metadata": {},
   "outputs": [],
   "source": [
    "fig, ax = plt.subplots()\n",
    "\n",
    "k=0\n",
    "n=df.shape[0]\n",
    "\n",
    "x_ax = np.zeros(df['episode_length'].max()+1)\n",
    "x_ax[df['episode_length'][k:n].value_counts().index] = df['episode_length'][k:n].value_counts().values\n",
    "ax.scatter(np.arange(df['episode_length'][k:n].max()+1), x_ax, s=1)\n",
    "\n",
    "ax.grid(alpha=0.7)\n",
    "ax.set_yscale('log')\n",
    "ax.set_xlabel('Episode length')\n",
    "ax.set_ylabel('Number of times arrived at')\n",
    "ax.set_title('Episode length distribution')\n",
    "fig.tight_layout()\n",
    "\n",
    "plt.show()\n",
    "plt.close()"
   ]
  },
  {
   "cell_type": "code",
   "execution_count": null,
   "id": "8d9b6483",
   "metadata": {},
   "outputs": [],
   "source": [
    "def plot_avg_ep(x=1000):\n",
    "    fig, ax = plt.subplots()\n",
    "    fig.set_dpi(300)\n",
    "    fig.set_size_inches((12,4))\n",
    "    ax.grid(alpha=0.7)\n",
    "    ax.set_title('average episode length')\n",
    "    ax.plot(df['episode_length'].rolling(window=x, min_periods=1).mean(), label='Last 1000 term average')\n",
    "    ax.plot(df['episode_length'].cumsum()/np.arange(1, df.shape[0]+1), label='Global average')\n",
    "    ax.legend()\n",
    "    plt.show()"
   ]
  }
 ],
 "metadata": {
  "kernelspec": {
   "display_name": "Python 3",
   "language": "python",
   "name": "python3"
  },
  "language_info": {
   "codemirror_mode": {
    "name": "ipython",
    "version": 3
   },
   "file_extension": ".py",
   "mimetype": "text/x-python",
   "name": "python",
   "nbconvert_exporter": "python",
   "pygments_lexer": "ipython3",
   "version": "3.11.9"
  }
 },
 "nbformat": 4,
 "nbformat_minor": 5
}
